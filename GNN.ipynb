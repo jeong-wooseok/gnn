{
 "cells": [
  {
   "cell_type": "markdown",
   "id": "a7dd1adb-4991-477a-af56-48440a26906c",
   "metadata": {},
   "source": [
    "# GNN (Graphic Neural Network)\n"
   ]
  },
  {
   "cell_type": "markdown",
   "id": "485abfde-f943-4a5c-9d79-a00709d909a6",
   "metadata": {},
   "source": [
    "[참고논문 바로가기](https://arxiv.org/ftp/arxiv/papers/1812/1812.08434.pdf)<br>\n",
    "GNN은 이름에서도 알 수 있듯이 그래프에 직접 적용할 수 있는 신경망이다. <br>\n",
    "GNN은 <b><u> 연결관계와 이웃들의 상태를 이용하여 각 점의 상태를 업데이트(학습)하고 마지막 상태를 통해 예측 업무를 수행</b></u>한다. <br>\n",
    "(일반적으로 마지막 상태를 ‘node embedding’이라고 부른다.)<br>\n",
    "점 레벨(Node Level), 선 레벨(Edge Level), 그래프 레벨(Graph level)에서 예측 작업에 활용되며, 그 핵심은 점이 이웃과의 연결에 의해 정의된다는 것이다.<br>\n",
    "<br>\n",
    "![](http://localhost:8888/files/Desktop/Recommandation/GNN/image/general%20design%20pipeline%20for%20gnn%20model.jpg?_xsrf=2%7C36091fd4%7C11dfc186c35e405f7f3acf3dea4e18b1%7C1649849124)\n",
    "<br>그래프 타입/스케일을 정하고, Loss Function을 결정하여 인풋하면,<br>\n",
    "GNN 레이어를 거치며, 노드, 엣지, 그래프 임베딩이 출력된다. \n",
    "<br> 설계 시 다음과 같은 단계를 거친다\n",
    "1. 그래프 구조 확인\n",
    " - structural scenarios: 분자구조, 물리시스템, 지식그래프 등과 같은 체꼐화된 그래프 구조\n",
    " - non-structural scenarios : 그래프로서의 구조화가 잡히지 않은 것은 그래프부터 만들어 줘야 한다. <br>\n",
    "   (텍스트를 \"word\"연관관계로 그래프화 등)\n",
    "2. 그래프 타입, 스케일 정의\n",
    "- 타입 정의 : 방향성 유/무 여부(Directed/Undirected), 점/선의 타입이 동일한지 아닌지 (Homogeneous/Heterogeneous), 계측가능/동적 (Static/Dynamic)\n",
    "- 규모 정의 : 영역(Criteria)은 디바이스의 연산성능에 따라 변경\n",
    "3. 손실함수 (Loss Function) 설계\n",
    "- 노드, 엣지, 그래프 레벨에서의 손실함수 설계\n",
    "* 노드레벨 : node classification (노드를 여러 클래스로 분류 진행), node regression (노드의 연산값 예측), node clustering \n",
    "* 엣지레벨 : edge classification (관계 타입 분류), link prediction (두 노드 사이의 관계 예상)\n",
    "* 그래프레벨 : e graph classification, graph regression, graph matching\n",
    "- Supervised / Semi Supervised / Unsupervised Setting 으로 구분해볼 수 있음\n",
    "* Supervised : 학습 가능하도록 라벨링 데이터 있음\n",
    "* Semi : 라벨링 데이터 소수 보유, 언라벨 노드에 대해 예측값 사용하여 mixed setting\n",
    "* Unsupervised : 패턴을 찾음, 노드클러스터링이 대표적\n",
    "4. 컴퓨테이션 모델 설계\n",
    "- 계산 방식에 따라 propagation modules, sampling modules, pooling modules로 구분.<br>\n",
    "* propagation modules : 노드 간 정보를 전이시키며 특성치 및 위상학적 정보를 반영. convolution operator, recurrent operator, skip connection이 있음 <br>\n",
    "convolution operator, recurrent operator는 이웃으로부터 정보를 집계하는 반면, skip connection은 노드의 상태기록을 활용하여 지나친 획일화 문제를 완화함.\n",
    "[참고자료](https://ydy8989.github.io/2021-03-03-GAT/)\n",
    "\n",
    "<br><br> \n",
    "\n",
    "\n",
    "\n",
    "![](http://localhost:8888/files/Desktop/Recommandation/GNN/image/overview%20of%20computational%20model.jpg?_xsrf=2%7C36091fd4%7C11dfc186c35e405f7f3acf3dea4e18b1%7C1649849124)\n",
    "\n",
    "\n",
    "특히 Convolution operator는 GNN에서 가장 흔히 쓰는 방식이다<br>\n",
    "<!-- <img src=\"http://localhost:8888/files/Desktop/Recommandation/GNN/image/%ED%99%94%EB%A9%B4%20%EC%BA%A1%EC%B2%98%202022-04-21%20165354.jpg?_xsrf=2%7C36091fd4%7C11dfc186c35e405f7f3acf3dea4e18b1%7C1649849124\" width=\"800\" height=\"500\"/> -->\n"
   ]
  },
  {
   "cell_type": "markdown",
   "id": "70ca39c4-0a46-4f66-86fe-5fdf38a29510",
   "metadata": {},
   "source": [
    "### Spectral Convolutional Network\n",
    "\n",
    " 그래프신호 체계(Shuman et al., 2013)를 활용,<br>\n",
    "그래프의 스팩트럼 표현을 활용하여 접근하는 방식으로, 스팩트럼 영역에에서의 컨볼루션 오퍼레이터를 정의 활용한다 \n",
    "<br>\n",
    "그래프시그널x는 그래프 Fourior전이체 F에 의해 전파되며 컨볼루션 오퍼레이터가 작용한다. <br>\n",
    "컨볼루션 후에는 역-그래프 Fourior전이체 F에 의해 결과물이 다시 전파된다.<br>\n",
    "\n",
    "\n",
    "$ Z = f(X,A) = softmax(\\hat{A}Relu(\\hat{A}XW^{(0)}) $"
   ]
  },
  {
   "cell_type": "markdown",
   "id": "11e664fb-e324-45db-936f-996452050e45",
   "metadata": {},
   "source": [
    "### Spatial Convolutional Network\n",
    "\n",
    "학습가능한 필터를 통해 <b><u>연결된 점의 특징을 합치는 것</b></u><br>\n",
    "![](http://localhost:8888/files/Desktop/Recommandation/GNN/image/GraphConvolution.jpg?_xsrf=2%7C36091fd4%7C11dfc186c35e405f7f3acf3dea4e18b1%7C1649849124)"
   ]
  },
  {
   "cell_type": "markdown",
   "id": "4690af7f-bb00-4f09-b1d0-8de75b09a1a8",
   "metadata": {},
   "source": [
    "### Recurrent Graph Neural Network\n",
    "\n",
    "<br>[관련논문 바로가기](https://ieeexplore.ieee.org/document/4700287/authors#authors)<br>\n",
    "\n",
    "입력과 출력이 아래와 같은 함수 $f_w$를 정의하여 점의 상태를 업데이트 한다. <br>\n",
    "(컨버셔널 모델과는 달리 layer에 동일한 가중치를 적용)<br>\n",
    "l : layer, 엣지, 특징을 뜻함, x : 노드, 상태를 의미\n",
    "<br><br>\n",
    "예를 들어서 <br>\n",
    "상태(x) : '엄마는 외계인' 이면, 특징(l)은 '밀크베이스' + '초콜릿베이스'+ '초콜릿볼' + ...로 갈라져서 <br>\n",
    "또 다른 상태(x) : '사랑에 빠진 외계인' 등과 연결됨<br>\n",
    "\n",
    "\n",
    "\n",
    "\n",
    "$x_n = f_w(l_n, l_{co[n]}, x_{ne[n]}, l_{ne[n]})$\n",
    "\n",
    "![](http://localhost:8888/files/Desktop/Recommandation/GNN/image/rec_gnn.jpg?_xsrf=2%7C36091fd4%7C11dfc186c35e405f7f3acf3dea4e18b1%7C1649849124)\n",
    "\n",
    "k번 반복을 통한 업데이트 후 마지막상태($x_n$)와 특징($l_n$)을 사용하여 결과값 $o_n$을 출력한다. <br>\n",
    "$o_n = g_w(x_n, l_n)$<br>\n",
    "<br> recurrent의 모델 별 오퍼레이터로 적용하는 수식은 다음과 같다.\n",
    "<br>\n",
    "![](http://localhost:8888/files/Desktop/Recommandation/GNN/image/%ED%99%94%EB%A9%B4%20%EC%BA%A1%EC%B2%98%202022-04-21%20143312.jpg?_xsrf=2%7C36091fd4%7C11dfc186c35e405f7f3acf3dea4e18b1%7C1649849124)\n",
    "![](http://localhost:8888/files/Desktop/Recommandation/GNN/image/%ED%99%94%EB%A9%B4%20%EC%BA%A1%EC%B2%98%202022-04-21%20151504.jpg?_xsrf=2%7C36091fd4%7C11dfc186c35e405f7f3acf3dea4e18b1%7C1649849124)\n"
   ]
  },
  {
   "cell_type": "markdown",
   "id": "474cabce-c53f-4427-b7d4-3fefd586c94d",
   "metadata": {},
   "source": [
    "https://medium.com/watcha/gnn-%EC%86%8C%EA%B0%9C-%EA%B8%B0%EC%B4%88%EB%B6%80%ED%84%B0-%EB%85%BC%EB%AC%B8%EA%B9%8C%EC%A7%80-96567b783479 <br>\n",
    "https://medium.com/watcha/%EA%B7%B8%EB%9E%98%ED%94%84-%EC%9E%84%EB%B2%A0%EB%94%A9-%EC%9A%94%EC%95%BD-bc2732048999<br>\n",
    "https://www.arxiv-vanity.com/papers/1907.09495/"
   ]
  },
  {
   "cell_type": "code",
   "execution_count": null,
   "id": "cb70c89a-1044-4144-935d-a5e46502906e",
   "metadata": {},
   "outputs": [],
   "source": []
  },
  {
   "cell_type": "code",
   "execution_count": null,
   "id": "15f6fc79-0408-420e-a948-55047335c6ae",
   "metadata": {},
   "outputs": [],
   "source": []
  }
 ],
 "metadata": {
  "kernelspec": {
   "display_name": "Python 3 (ipykernel)",
   "language": "python",
   "name": "python3"
  },
  "language_info": {
   "codemirror_mode": {
    "name": "ipython",
    "version": 3
   },
   "file_extension": ".py",
   "mimetype": "text/x-python",
   "name": "python",
   "nbconvert_exporter": "python",
   "pygments_lexer": "ipython3",
   "version": "3.8.5"
  }
 },
 "nbformat": 4,
 "nbformat_minor": 5
}
